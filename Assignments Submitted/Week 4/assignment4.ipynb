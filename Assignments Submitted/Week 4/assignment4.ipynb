{
 "cells": [
  {
   "cell_type": "markdown",
   "metadata": {
    "deletable": false,
    "editable": false,
    "nbgrader": {
     "checksum": "48770f8b5f5d3062d3badd51fcafc401",
     "grade": false,
     "grade_id": "cell-a6c4f74309fc2379",
     "locked": true,
     "schema_version": 1,
     "solution": false
    }
   },
   "source": [
    "# Assignment 4\n",
    "## Description\n",
    "In this assignment you must read in a file of metropolitan regions and associated sports teams from [assets/wikipedia_data.html](assets/wikipedia_data.html) and answer some questions about each metropolitan region. Each of these regions may have one or more teams from the \"Big 4\": NFL (football, in [assets/nfl.csv](assets/nfl.csv)), MLB (baseball, in [assets/mlb.csv](assets/mlb.csv)), NBA (basketball, in [assets/nba.csv](assets/nba.csv) or NHL (hockey, in [assets/nhl.csv](assets/nhl.csv)). Please keep in mind that all questions are from the perspective of the metropolitan region, and that this file is the \"source of authority\" for the location of a given sports team. Thus teams which are commonly known by a different area (e.g. \"Oakland Raiders\") need to be mapped into the metropolitan region given (e.g. San Francisco Bay Area). This will require some human data understanding outside of the data you've been given (e.g. you will have to hand-code some names, and might need to google to find out where teams are)!\n",
    "\n",
    "For each sport I would like you to answer the question: **what is the win/loss ratio's correlation with the population of the city it is in?** Win/Loss ratio refers to the number of wins over the number of wins plus the number of losses. Remember that to calculate the correlation with [`pearsonr`](https://docs.scipy.org/doc/scipy/reference/generated/scipy.stats.pearsonr.html), so you are going to send in two ordered lists of values, the populations from the wikipedia_data.html file and the win/loss ratio for a given sport in the same order. Average the win/loss ratios for those cities which have multiple teams of a single sport. Each sport is worth an equal amount in this assignment (20%\\*4=80%) of the grade for this assignment. You should only use data **from year 2018** for your analysis -- this is important!\n",
    "\n",
    "## Notes\n",
    "\n",
    "1. Do not include data about the MLS or CFL in any of the work you are doing, we're only interested in the Big 4 in this assignment.\n",
    "2. I highly suggest that you first tackle the four correlation questions in order, as they are all similar and worth the majority of grades for this assignment. This is by design!\n",
    "3. It's fair game to talk with peers about high level strategy as well as the relationship between metropolitan areas and sports teams. However, do not post code solving aspects of the assignment (including such as dictionaries mapping areas to teams, or regexes which will clean up names).\n",
    "4. There may be more teams than the assert statements test, remember to collapse multiple teams in one city into a single value!"
   ]
  },
  {
   "cell_type": "markdown",
   "metadata": {
    "deletable": false,
    "editable": false,
    "nbgrader": {
     "checksum": "369ff9ecf0ee04640574205cbc697f94",
     "grade": false,
     "grade_id": "cell-712b2b5da63d4505",
     "locked": true,
     "schema_version": 1,
     "solution": false
    }
   },
   "source": [
    "## Question 1\n",
    "For this question, calculate the win/loss ratio's correlation with the population of the city it is in for the **NHL** using **2018** data."
   ]
  },
  {
   "cell_type": "code",
   "execution_count": 1,
   "metadata": {
    "deletable": false,
    "nbgrader": {
     "checksum": "1cac4803b02502929f5b1612d48db2b5",
     "grade": false,
     "grade_id": "cell-69b16e4386e58030",
     "locked": false,
     "schema_version": 1,
     "solution": true
    }
   },
   "outputs": [],
   "source": [
    "import pandas as pd\n",
    "import numpy as np\n",
    "import scipy.stats as stats\n",
    "import re\n",
    "\n",
    "def nhl_correlation(): \n",
    "    nhl_df=pd.read_csv(\"assets/nhl.csv\")\n",
    "    cities=pd.read_html(\"assets/wikipedia_data.html\")[1]\n",
    "    cities=cities.iloc[:-1,[0,3,5,6,7,8]]\n",
    "\n",
    "    nhl_df.columns = [x.lower().strip() for x in nhl_df.columns]\n",
    "    nhl_df = nhl_df[nhl_df['year'] == 2018]\n",
    "    cities.columns = [x.lower().strip() for x in cities.columns]\n",
    "    cities.rename(columns = {\"population (2016 est.)[8]\": \"population\",\n",
    "                            \"metropolitan area\": \"city\"}, inplace=True)\n",
    "    \n",
    "    for key,value in cities.iteritems():\n",
    "        value = value.replace(r\"-?[ ]?\\[(.*?)\\]\", \"\",regex=True, inplace=True)\n",
    "\n",
    "    vals_to_replace = {'—':np.nan, \"\":np.nan}\n",
    "    for key,value in cities.iteritems():\n",
    "        value = value.replace(vals_to_replace, inplace=True)\n",
    "        \n",
    "    cities_nhl = cities[['city', 'population', 'nhl']]\n",
    "    cities_nhl = cities_nhl[cities_nhl['nhl'].notna()]\n",
    "    cities_nhl.index = pd.RangeIndex(len(cities_nhl.index)) # This is faster than reset_index\n",
    "    \n",
    "    nhl = nhl_df[['team', 'w', 'l']]\n",
    "    \n",
    "    nhl = nhl.replace(r\"\\*\", \"\",regex=True)\n",
    "    nhl.drop(nhl.index[[0,9,18,26]], inplace=True)\n",
    "    nhl.index = pd.RangeIndex(len(nhl.index))\n",
    "\n",
    "    nhl[\"team_only\"]=nhl['team'].apply(lambda x: x.rsplit(\" \")[-1])\n",
    "    nhl.loc[2, 'team_only'] = 'Maple Leafs'\n",
    "    nhl.loc[4, 'team_only'] = 'Red Wings'\n",
    "    nhl.loc[11, 'team_only'] = 'Blue Jackets'\n",
    "    nhl.loc[23, 'team_only'] = 'Golden Knights'\n",
    "\n",
    "    # Some cities have multiple teams and joined in one\n",
    "    nhl.loc[15, 'team_only'] = 'RangersIslandersDevils'\n",
    "    nhl.loc[14, 'team_only'] = 'RangersIslandersDevils'\n",
    "    nhl.loc[12, 'team_only'] = 'RangersIslandersDevils'\n",
    "    nhl.loc[26, 'team_only'] = 'KingsDucks'\n",
    "    nhl.loc[24, 'team_only'] = 'KingsDucks'\n",
    "\n",
    "    nhl[['w', 'l']] = nhl[['w', 'l']].astype(float)\n",
    "\n",
    "    nhl = nhl.groupby(by='team_only')['w','l'].mean()\n",
    "    nhl.reset_index(inplace=True)\n",
    "    \n",
    "    data = pd.merge(cities_nhl,nhl, how='inner',left_on='nhl', right_on='team_only')\n",
    "    data['ratio'] = data['w']/(data['w']+data['l'])\n",
    "    data['population'] = data['population'].astype(float)\n",
    "\n",
    "#     raise NotImplementedError()\n",
    "    \n",
    "    population_by_region = list(data['population']) # pass in metropolitan area population from cities\n",
    "    win_loss_by_region = list(data['ratio']) # pass in win/loss ratio from nhl_df in the same order as cities[\"Metropolitan area\"]\n",
    "\n",
    "    assert len(population_by_region) == len(win_loss_by_region), \"Q1: Your lists must be the same length\"\n",
    "    assert len(population_by_region) == 28, \"Q1: There should be 28 teams being analysed for NHL\"\n",
    "    \n",
    "    return (stats.pearsonr(population_by_region, win_loss_by_region))[0]"
   ]
  },
  {
   "cell_type": "code",
   "execution_count": 2,
   "metadata": {},
   "outputs": [
    {
     "data": {
      "text/plain": [
       "0.012308996455744285"
      ]
     },
     "execution_count": 2,
     "metadata": {},
     "output_type": "execute_result"
    }
   ],
   "source": [
    "nhl_correlation()"
   ]
  },
  {
   "cell_type": "code",
   "execution_count": null,
   "metadata": {
    "deletable": false,
    "editable": false,
    "nbgrader": {
     "checksum": "52a581df513c71153e105b93764cda4b",
     "grade": true,
     "grade_id": "cell-ebe0b2dfe1067e63",
     "locked": true,
     "points": 20,
     "schema_version": 1,
     "solution": false
    }
   },
   "outputs": [],
   "source": []
  },
  {
   "cell_type": "markdown",
   "metadata": {
    "deletable": false,
    "editable": false,
    "nbgrader": {
     "checksum": "988912cae4968d81473f46d783e79c16",
     "grade": false,
     "grade_id": "cell-cb964e690298b71d",
     "locked": true,
     "schema_version": 1,
     "solution": false
    }
   },
   "source": [
    "## Question 2\n",
    "For this question, calculate the win/loss ratio's correlation with the population of the city it is in for the **NBA** using **2018** data."
   ]
  },
  {
   "cell_type": "code",
   "execution_count": 9,
   "metadata": {
    "deletable": false,
    "nbgrader": {
     "checksum": "9394222aafc8ccab0a228098ba0d6010",
     "grade": false,
     "grade_id": "cell-5a5f21279e3d3572",
     "locked": false,
     "schema_version": 1,
     "solution": true
    }
   },
   "outputs": [],
   "source": [
    "import pandas as pd\n",
    "import numpy as np\n",
    "import scipy.stats as stats\n",
    "import re\n",
    "\n",
    "def nba_correlation():\n",
    "    \n",
    "    nba_df=pd.read_csv(\"assets/nba.csv\")\n",
    "    cities=pd.read_html(\"assets/wikipedia_data.html\")[1]\n",
    "    cities=cities.iloc[:-1,[0,3,5,6,7,8]]\n",
    "    \n",
    "    nba_df.columns = [x.lower().strip() for x in nba_df.columns]\n",
    "    nba_df = nba_df[nba_df['year'] == 2018]\n",
    "    cities.columns = [x.lower().strip() for x in cities.columns]\n",
    "    cities.rename(columns = {\"population (2016 est.)[8]\": \"population\",\n",
    "                            \"metropolitan area\": \"city\"}, inplace=True)\n",
    "    \n",
    "    for key,value in cities.iteritems():\n",
    "        value = value.replace(r\"-?[ ]?\\[(.*?)\\]\", \"\",regex=True, inplace=True)\n",
    "\n",
    "    vals_to_replace = {'—':np.nan, \"\":np.nan}\n",
    "    for key,value in cities.iteritems():\n",
    "        value = value.replace(vals_to_replace, inplace=True)\n",
    "        \n",
    "    cities_nba = cities[['city', 'population', 'nba']]\n",
    "    cities_nba = cities_nba[cities_nba['nba'].notna()]\n",
    "    cities_nba.index = pd.RangeIndex(len(cities_nba.index)) # This is faster than reset_index\n",
    "    \n",
    "    nba_df = nba_df[['team', 'w', 'l']]\n",
    "    nba_df['team'] = nba_df['team'].replace(r\"\\((.*?)\\)\", \"\",regex=True)\n",
    "    nba_df['team'] = nba_df['team'].replace(r\"(\\*\\s+)\", \"\",regex=True)\n",
    "\n",
    "    nba_df[\"team_only\"]=nba_df['team'].apply(lambda x: x.rsplit(\" \")[-1])\n",
    "    nba_df[\"team_only\"] = nba_df[\"team_only\"].replace(r\"\\s+\", \"\",regex=True)\n",
    "\n",
    "    # # Some cities have multiple teams and joined in one\n",
    "    nba_df.loc[24, 'team_only'] = 'LakersClippers'\n",
    "    nba_df.loc[25, 'team_only'] = 'LakersClippers'\n",
    "    nba_df.loc[17, 'team_only'] = 'Trail Blazers'\n",
    "    nba_df.loc[10, 'team_only'] = 'KnicksNets'\n",
    "    nba_df.loc[11, 'team_only'] = 'KnicksNets'\n",
    "\n",
    "    nba_df[['w', 'l']] = nba_df[['w', 'l']].astype(float)\n",
    "\n",
    "    nba_df = nba_df.groupby(by='team_only')['w','l'].mean()\n",
    "    nba_df.reset_index(inplace=True)\n",
    "    \n",
    "    data = pd.merge(cities_nba,nba_df, how='inner',left_on='nba', right_on='team_only')\n",
    "    data['ratio'] = data['w']/(data['w']+data['l'])\n",
    "    data['population'] = data['population'].astype(float)\n",
    "#     raise NotImplementedError()\n",
    "    \n",
    "    population_by_region = list(data['population']) # pass in metropolitan area population from cities\n",
    "    win_loss_by_region = list(data['ratio']) # pass in win/loss ratio from nba_df in the same order as cities[\"Metropolitan\n",
    "\n",
    "    assert len(population_by_region) == len(win_loss_by_region), \"Q2: Your lists must be the same length\"\n",
    "    assert len(population_by_region) == 28, \"Q2: There should be 28 teams being analysed for NBA\"\n",
    "\n",
    "    return (stats.pearsonr(population_by_region, win_loss_by_region))[0]"
   ]
  },
  {
   "cell_type": "code",
   "execution_count": 10,
   "metadata": {},
   "outputs": [
    {
     "data": {
      "text/plain": [
       "-0.1765716025284462"
      ]
     },
     "execution_count": 10,
     "metadata": {},
     "output_type": "execute_result"
    }
   ],
   "source": [
    "nba_correlation()"
   ]
  },
  {
   "cell_type": "code",
   "execution_count": null,
   "metadata": {
    "deletable": false,
    "editable": false,
    "nbgrader": {
     "checksum": "bbdeb8eb22f525a34c10dc8798324e42",
     "grade": true,
     "grade_id": "cell-e573b2b4a282b470",
     "locked": true,
     "points": 20,
     "schema_version": 1,
     "solution": false
    }
   },
   "outputs": [],
   "source": []
  },
  {
   "cell_type": "markdown",
   "metadata": {
    "deletable": false,
    "editable": false,
    "nbgrader": {
     "checksum": "1a1a5809f675ca033086422007cd73bd",
     "grade": false,
     "grade_id": "cell-96e15e4335df78f4",
     "locked": true,
     "schema_version": 1,
     "solution": false
    }
   },
   "source": [
    "## Question 3\n",
    "For this question, calculate the win/loss ratio's correlation with the population of the city it is in for the **MLB** using **2018** data."
   ]
  },
  {
   "cell_type": "code",
   "execution_count": 5,
   "metadata": {
    "deletable": false,
    "nbgrader": {
     "checksum": "27e8c0da6c9fa0dffc10488314335b6c",
     "grade": false,
     "grade_id": "cell-33b00fc3f3467b0c",
     "locked": false,
     "schema_version": 1,
     "solution": true
    }
   },
   "outputs": [],
   "source": [
    "import pandas as pd\n",
    "import numpy as np\n",
    "import scipy.stats as stats\n",
    "import re\n",
    "\n",
    "def mlb_correlation(): \n",
    "    mlb_df=pd.read_csv(\"assets/mlb.csv\")\n",
    "    cities=pd.read_html(\"assets/wikipedia_data.html\")[1]\n",
    "    cities=cities.iloc[:-1,[0,3,5,6,7,8]]\n",
    "    cities.columns = [x.lower().strip() for x in cities.columns]\n",
    "    cities.rename(columns = {\"population (2016 est.)[8]\": \"population\",\n",
    "                            \"metropolitan area\": \"city\"}, inplace=True)\n",
    "\n",
    "    mlb_df.columns = [x.lower().strip() for x in mlb_df.columns]\n",
    "    mlb_df = mlb_df[mlb_df['year'] == 2018]\n",
    "    \n",
    "    for key,value in cities.iteritems():\n",
    "        value = value.replace(r\"-?[ ]?\\[(.*?)\\]\", \"\",regex=True, inplace=True)\n",
    "    \n",
    "    vals_to_replace = {'—':np.nan, \"\":np.nan}\n",
    "    for key,value in cities.iteritems():\n",
    "        value = value.replace(vals_to_replace, inplace=True)\n",
    "    cities_mlb = cities[['city', 'population', 'mlb']]\n",
    "    cities_mlb = cities_mlb[cities_mlb['mlb'].notna()]\n",
    "    cities_mlb.index = pd.RangeIndex(len(cities_mlb.index)) # This is faster than reset_index\n",
    "    \n",
    "    mlb_df = mlb_df[['team', 'w', 'l']]\n",
    "    mlb_df[\"team_only\"]=mlb_df['team'].apply(lambda x: x.rsplit(\" \")[-1])\n",
    "\n",
    "    # # Some cities have multiple teams and joined in one\n",
    "    mlb_df.loc[3, 'team_only'] = 'Blue Jays'\n",
    "    mlb_df.loc[0, 'team_only'] = 'Red Sox'\n",
    "    mlb_df.loc[21, 'team_only'] = 'CubsWhite Sox'\n",
    "    mlb_df.loc[8, 'team_only'] = 'CubsWhite Sox'\n",
    "\n",
    "    mlb_df.loc[1, 'team_only'] = 'YankeesMets'\n",
    "    mlb_df.loc[18, 'team_only'] = 'YankeesMets'\n",
    "    mlb_df.loc[28, 'team_only'] = 'GiantsAthletics'\n",
    "    mlb_df.loc[11, 'team_only'] = 'GiantsAthletics'\n",
    "    mlb_df.loc[13, 'team_only'] = 'DodgersAngels'\n",
    "    mlb_df.loc[25, 'team_only'] = 'DodgersAngels'\n",
    "\n",
    "\n",
    "    mlb_df[['w', 'l']] = mlb_df[['w', 'l']].astype(float)\n",
    "\n",
    "    mlb_df = mlb_df.groupby(by='team_only')['w','l'].mean()\n",
    "    mlb_df.reset_index(inplace=True)\n",
    "    \n",
    "    data = pd.merge(cities_mlb,mlb_df, how='inner',left_on='mlb', right_on='team_only')\n",
    "    data['ratio'] = data['w']/(data['w']+data['l'])\n",
    "    data['population'] = data['population'].astype(float)\n",
    "    \n",
    "#     raise NotImplementedError()\n",
    "    \n",
    "    population_by_region = list(data['population']) # pass in metropolitan area population from cities\n",
    "    win_loss_by_region = list(data['ratio']) # pass in win/loss ratio from mlb_df in the same order as cities[\"Metropolitan\n",
    "\n",
    "    assert len(population_by_region) == len(win_loss_by_region), \"Q3: Your lists must be the same length\"\n",
    "    assert len(population_by_region) == 26, \"Q3: There should be 26 teams being analysed for MLB\"\n",
    "\n",
    "    return (stats.pearsonr(population_by_region, win_loss_by_region))[0]"
   ]
  },
  {
   "cell_type": "code",
   "execution_count": 6,
   "metadata": {},
   "outputs": [
    {
     "data": {
      "text/plain": [
       "0.1505230448710485"
      ]
     },
     "execution_count": 6,
     "metadata": {},
     "output_type": "execute_result"
    }
   ],
   "source": [
    "mlb_correlation()"
   ]
  },
  {
   "cell_type": "code",
   "execution_count": null,
   "metadata": {
    "deletable": false,
    "editable": false,
    "nbgrader": {
     "checksum": "cda33b094ba19ccc37a481e0dd29e0bc",
     "grade": true,
     "grade_id": "cell-764d4476f425c5a2",
     "locked": true,
     "points": 20,
     "schema_version": 1,
     "solution": false
    }
   },
   "outputs": [],
   "source": []
  },
  {
   "cell_type": "markdown",
   "metadata": {
    "deletable": false,
    "editable": false,
    "nbgrader": {
     "checksum": "6977a6da9ed6d8b7a0b7e37bbeda709b",
     "grade": false,
     "grade_id": "cell-793df6c04dfb126e",
     "locked": true,
     "schema_version": 1,
     "solution": false
    }
   },
   "source": [
    "## Question 4\n",
    "For this question, calculate the win/loss ratio's correlation with the population of the city it is in for the **NFL** using **2018** data."
   ]
  },
  {
   "cell_type": "code",
   "execution_count": 12,
   "metadata": {
    "deletable": false,
    "nbgrader": {
     "checksum": "c4914ad1e119278ec2bd567c52640b66",
     "grade": false,
     "grade_id": "cell-8ccebc209aeec8d9",
     "locked": false,
     "schema_version": 1,
     "solution": true
    }
   },
   "outputs": [],
   "source": [
    "import pandas as pd\n",
    "import numpy as np\n",
    "import scipy.stats as stats\n",
    "import re\n",
    "\n",
    "def nfl_correlation(): \n",
    "    \n",
    "    nfl_df=pd.read_csv(\"assets/nfl.csv\")\n",
    "    cities=pd.read_html(\"assets/wikipedia_data.html\")[1]\n",
    "    cities=cities.iloc[:-1,[0,3,5,6,7,8]]\n",
    "    cities.columns = [x.lower().strip() for x in cities.columns]\n",
    "    cities.rename(columns = {\"population (2016 est.)[8]\": \"population\",\n",
    "                            \"metropolitan area\": \"city\"}, inplace=True)\n",
    "    \n",
    "    nfl_df.columns = [x.lower().strip() for x in nfl_df.columns]\n",
    "    nfl_df = nfl_df[nfl_df['year'] == 2018]\n",
    "    \n",
    "    for key,value in cities.iteritems():\n",
    "        value = value.replace(r\"-?[ ]?\\[(.*?)\\]\", \"\",regex=True, inplace=True)\n",
    "    \n",
    "    vals_to_replace = {'—':np.nan, \"\":np.nan}\n",
    "    for key,value in cities.iteritems():\n",
    "        value = value.replace(vals_to_replace, inplace=True)\n",
    "        \n",
    "    cities_nfl = cities[['city', 'population', 'nfl']]\n",
    "    cities_nfl = cities_nfl[cities_nfl['nfl'].notna()]\n",
    "    cities_nfl.index = pd.RangeIndex(len(cities_nfl.index)) # This is faster than reset_index\n",
    "    \n",
    "    nfl_df = nfl_df[['team', 'w', 'l']]\n",
    "    nfl_df= nfl_df.replace(r\"\\*|\\+\", \"\",regex=True)\n",
    "    nfl_df.drop(nfl_df.index[[0,5,10,15,20,25,30,35]], inplace=True)\n",
    "    nfl_df.index = pd.RangeIndex(len(nfl_df.index))\n",
    "\n",
    "    nfl_df[\"team_only\"]=nfl_df['team'].apply(lambda x: x.rsplit(\" \")[-1])\n",
    "\n",
    "    nfl_df.loc[3, 'team_only'] = 'GiantsJets'\n",
    "    nfl_df.loc[19, 'team_only'] = 'GiantsJets'\n",
    "    nfl_df.loc[13, 'team_only'] = 'RamsChargers'\n",
    "    nfl_df.loc[28, 'team_only'] = 'RamsChargers'\n",
    "    nfl_df.loc[15, 'team_only'] = '49ersRaiders'\n",
    "    nfl_df.loc[30, 'team_only'] = '49ersRaiders'\n",
    "\n",
    "    nfl_df[['w', 'l']] = nfl_df[['w', 'l']].astype(float)\n",
    "\n",
    "    nfl_df = nfl_df.groupby(by='team_only')['w','l'].mean()\n",
    "    nfl_df.reset_index(inplace=True)\n",
    "    \n",
    "    data = pd.merge(cities_nfl,nfl_df, how='inner',left_on='nfl', right_on='team_only')\n",
    "    data['ratio'] = data['w']/(data['w']+data['l'])\n",
    "    data['population'] = data['population'].astype(float)\n",
    "    \n",
    "#     raise NotImplementedError()\n",
    "    \n",
    "    population_by_region = list(data['population']) # pass in metropolitan area population from cities\n",
    "    win_loss_by_region = list(data['ratio']) # pass in win/loss ratio from nfl_df in the same order as cities[\"Metropolitan\n",
    "\n",
    "    assert len(population_by_region) == len(win_loss_by_region), \"Q4: Your lists must be the same length\"\n",
    "    assert len(population_by_region) == 29, \"Q4: There should be 29 teams being analysed for NFL\"\n",
    "\n",
    "    return (stats.pearsonr(population_by_region, win_loss_by_region))[0]"
   ]
  },
  {
   "cell_type": "code",
   "execution_count": 13,
   "metadata": {},
   "outputs": [
    {
     "data": {
      "text/plain": [
       "0.004922112149349386"
      ]
     },
     "execution_count": 13,
     "metadata": {},
     "output_type": "execute_result"
    }
   ],
   "source": [
    "nfl_correlation()"
   ]
  },
  {
   "cell_type": "code",
   "execution_count": null,
   "metadata": {
    "deletable": false,
    "editable": false,
    "nbgrader": {
     "checksum": "e9415d6399aa49e3a1a60813afdefa3b",
     "grade": true,
     "grade_id": "cell-de7b148b9554dbda",
     "locked": true,
     "points": 20,
     "schema_version": 1,
     "solution": false
    }
   },
   "outputs": [],
   "source": []
  },
  {
   "cell_type": "markdown",
   "metadata": {
    "deletable": false,
    "editable": false,
    "nbgrader": {
     "checksum": "b02d5cd3273f561e4ae939bb2a41740c",
     "grade": false,
     "grade_id": "cell-97b49d8639e908c4",
     "locked": true,
     "schema_version": 1,
     "solution": false
    }
   },
   "source": [
    "## Question 5\n",
    "In this question I would like you to explore the hypothesis that **given that an area has two sports teams in different sports, those teams will perform the same within their respective sports**. How I would like to see this explored is with a series of paired t-tests (so use [`ttest_rel`](https://docs.scipy.org/doc/scipy/reference/generated/scipy.stats.ttest_rel.html)) between all pairs of sports. Are there any sports where we can reject the null hypothesis? Again, average values where a sport has multiple teams in one region. Remember, you will only be including, for each sport, cities which have teams engaged in that sport, drop others as appropriate. This question is worth 20% of the grade for this assignment."
   ]
  },
  {
   "cell_type": "code",
   "execution_count": null,
   "metadata": {
    "deletable": false,
    "nbgrader": {
     "checksum": "6d78c961eb66f8d8c81f06d33ae8f393",
     "grade": false,
     "grade_id": "cell-92f25f44b8d1179f",
     "locked": false,
     "schema_version": 1,
     "solution": true
    }
   },
   "outputs": [],
   "source": [
    "import pandas as pd\n",
    "import numpy as np\n",
    "import scipy.stats as stats\n",
    "import re\n",
    "\n",
    "mlb_df=pd.read_csv(\"assets/mlb.csv\")\n",
    "nhl_df=pd.read_csv(\"assets/nhl.csv\")\n",
    "nba_df=pd.read_csv(\"assets/nba.csv\")\n",
    "nfl_df=pd.read_csv(\"assets/nfl.csv\")\n",
    "cities=pd.read_html(\"assets/wikipedia_data.html\")[1]\n",
    "cities=cities.iloc[:-1,[0,3,5,6,7,8]]\n",
    "\n",
    "def sports_team_performance():\n",
    "    # YOUR CODE HERE\n",
    "    raise NotImplementedError()\n",
    "    \n",
    "    # Note: p_values is a full dataframe, so df.loc[\"NFL\",\"NBA\"] should be the same as df.loc[\"NBA\",\"NFL\"] and\n",
    "    # df.loc[\"NFL\",\"NFL\"] should return np.nan\n",
    "    sports = ['NFL', 'NBA', 'NHL', 'MLB']\n",
    "    p_values = pd.DataFrame({k:np.nan for k in sports}, index=sports)\n",
    "    \n",
    "    assert abs(p_values.loc[\"NBA\", \"NHL\"] - 0.02) <= 1e-2, \"The NBA-NHL p-value should be around 0.02\"\n",
    "    assert abs(p_values.loc[\"MLB\", \"NFL\"] - 0.80) <= 1e-2, \"The MLB-NFL p-value should be around 0.80\"\n",
    "    return p_values"
   ]
  },
  {
   "cell_type": "code",
   "execution_count": null,
   "metadata": {
    "deletable": false,
    "editable": false,
    "nbgrader": {
     "checksum": "2a596ab421a45cc01168d10e8fbb8f89",
     "grade": true,
     "grade_id": "cell-fb4b9cb5ff4570a6",
     "locked": true,
     "points": 20,
     "schema_version": 1,
     "solution": false
    }
   },
   "outputs": [],
   "source": []
  }
 ],
 "metadata": {
  "coursera": {
   "schema_names": [
    "mooc_adswpy_1_v2_assignment4"
   ]
  },
  "kernelspec": {
   "display_name": "Python 3",
   "language": "python",
   "name": "python3"
  },
  "language_info": {
   "codemirror_mode": {
    "name": "ipython",
    "version": 3
   },
   "file_extension": ".py",
   "mimetype": "text/x-python",
   "name": "python",
   "nbconvert_exporter": "python",
   "pygments_lexer": "ipython3",
   "version": "3.8.8"
  }
 },
 "nbformat": 4,
 "nbformat_minor": 4
}
